{
 "cells": [
  {
   "cell_type": "code",
   "execution_count": 2,
   "metadata": {},
   "outputs": [
    {
     "name": "stdout",
     "output_type": "stream",
     "text": [
      "hyundai\n",
      "Bilkul rsik nahi lene ka !!\n"
     ]
    }
   ],
   "source": [
    "car = input()\n",
    "\n",
    "if car==\"maruti\" :\n",
    "    print(\"Sasti hai\")\n",
    "elif car==\"honda\" :\n",
    "    print(\"Budget me hai\")\n",
    "elif car==\"bmw\" :\n",
    "    print(\"Budget se bahar\")\n",
    "else:\n",
    "    print(\"Bilkul rsik nahi lene ka !!\")"
   ]
  }
 ],
 "metadata": {
  "kernelspec": {
   "display_name": "Python 3",
   "language": "python",
   "name": "python3"
  },
  "language_info": {
   "codemirror_mode": {
    "name": "ipython",
    "version": 3
   },
   "file_extension": ".py",
   "mimetype": "text/x-python",
   "name": "python",
   "nbconvert_exporter": "python",
   "pygments_lexer": "ipython3",
   "version": "3.8.5"
  }
 },
 "nbformat": 4,
 "nbformat_minor": 4
}
